{
 "cells": [
  {
   "cell_type": "markdown",
   "id": "70aebf1f-525f-4894-812a-dc9836a3763e",
   "metadata": {},
   "source": [
    "<center><h1>Image Classification(CNN)</h1></center>"
   ]
  },
  {
   "cell_type": "markdown",
   "id": "8b57eea9-c94e-45f4-aa4e-2096722196ef",
   "metadata": {},
   "source": [
    "<h3> Import Data set</h3>"
   ]
  },
  {
   "cell_type": "code",
   "execution_count": 1,
   "id": "e5275f49-d99c-40f7-98c6-2c1c2f80f42f",
   "metadata": {
    "scrolled": true
   },
   "outputs": [
    {
     "name": "stdout",
     "output_type": "stream",
     "text": [
      "      pixel1  pixel2  pixel3  pixel4  pixel5  pixel6  pixel7  pixel8  pixel9  \\\n",
      "0          0       0       0       0       0       0       0       9       8   \n",
      "1          0       0       0       0       0       0       0       0       0   \n",
      "2          0       0       0       0       0       0      14      53      99   \n",
      "3          0       0       0       0       0       0       0       0       0   \n",
      "4          0       0       0       0       0       0       0       0       0   \n",
      "...      ...     ...     ...     ...     ...     ...     ...     ...     ...   \n",
      "9995       0       0       0       0       0       0       0       0       0   \n",
      "9996       0       0       0       0       0       0       0       0       0   \n",
      "9997       0       0       0       0       0       0       0       0       0   \n",
      "9998       0       1       3       0       0       0       0       0       0   \n",
      "9999       0       0       0       0       0       0       0     140     119   \n",
      "\n",
      "      pixel10  ...  pixel775  pixel776  pixel777  pixel778  pixel779  \\\n",
      "0           0  ...       103        87        56         0         0   \n",
      "1           0  ...        34         0         0         0         0   \n",
      "2          17  ...         0         0         0         0        63   \n",
      "3         161  ...       137       126       140         0       133   \n",
      "4           0  ...         0         0         0         0         0   \n",
      "...       ...  ...       ...       ...       ...       ...       ...   \n",
      "9995       37  ...        32        23        14        20         0   \n",
      "9996        0  ...         0         0         0         2        52   \n",
      "9997        0  ...       175       172       172       182       199   \n",
      "9998        0  ...         0         0         0         0         0   \n",
      "9999      103  ...       111        95        75        44         1   \n",
      "\n",
      "      pixel780  pixel781  pixel782  pixel783  pixel784  \n",
      "0            0         0         0         0         0  \n",
      "1            0         0         0         0         0  \n",
      "2           53        31         0         0         0  \n",
      "3          224       222        56         0         0  \n",
      "4            0         0         0         0         0  \n",
      "...        ...       ...       ...       ...       ...  \n",
      "9995         0         1         0         0         0  \n",
      "9996        23        28         0         0         0  \n",
      "9997       222        42         0         1         0  \n",
      "9998         1         0         0         0         0  \n",
      "9999         0         0         0         0         0  \n",
      "\n",
      "[10000 rows x 784 columns]\n",
      "0       0\n",
      "1       1\n",
      "2       2\n",
      "3       2\n",
      "4       3\n",
      "       ..\n",
      "9995    0\n",
      "9996    6\n",
      "9997    8\n",
      "9998    8\n",
      "9999    1\n",
      "Name: label, Length: 10000, dtype: int64\n"
     ]
    }
   ],
   "source": [
    "import numpy as np \n",
    "import pandas as pd \n",
    "\n",
    "data=pd.read_csv(\"fashion-mnist_test.csv\")\n",
    "xdata=data.drop(\"label\",axis=1)\n",
    "ydata=data[\"label\"]\n",
    "print(xdata)\n",
    "print(ydata)\n"
   ]
  },
  {
   "cell_type": "markdown",
   "id": "d1fb2871-62f0-4b1e-bf6c-5b3cb43b1ca6",
   "metadata": {},
   "source": [
    "<h3> Transforming Xdata into grid Matrix (28X28)</h3>"
   ]
  },
  {
   "cell_type": "code",
   "execution_count": 11,
   "id": "81503205-9bf1-48a9-bae4-8f6dcd300ca8",
   "metadata": {},
   "outputs": [],
   "source": [
    "newdata=[]\n",
    "for q in np.array(xdata):\n",
    "    q=np.array(q).reshape(28,28)\n",
    "    newdata.append(q)\n",
    "xdata=newdata"
   ]
  },
  {
   "cell_type": "markdown",
   "id": "bb7798d2-ef0d-43ac-9ee7-3c673f3330c0",
   "metadata": {},
   "source": [
    "<h3>Visualizing xdata</h3>"
   ]
  },
  {
   "cell_type": "code",
   "execution_count": 12,
   "id": "4f189077-86ce-4930-8309-5d59a6fb138a",
   "metadata": {},
   "outputs": [
    {
     "data": {
      "text/plain": [
       "<matplotlib.image.AxesImage at 0x28ad3acf650>"
      ]
     },
     "execution_count": 12,
     "metadata": {},
     "output_type": "execute_result"
    },
    {
     "data": {
      "image/png": "[encoded data removed]",
      "text/plain": [
       "<Figure size 640x480 with 1 Axes>"
      ]
     },
     "metadata": {},
     "output_type": "display_data"
    }
   ],
   "source": [
    "import matplotlib.pyplot as plt\n",
    "plt.imshow(xdata[0])"
   ]
  },
  {
   "cell_type": "markdown",
   "id": "e4488337-3ea4-4fec-8250-de7754341d67",
   "metadata": {},
   "source": [
    "<h3> Implementing CNN model</h3>"
   ]
  },
  {
   "cell_type": "code",
   "execution_count": 19,
   "id": "6000b1a5-c2bb-437c-9833-cabf4a881d47",
   "metadata": {},
   "outputs": [],
   "source": [
    "\n",
    "from sklearn.model_selection import train_test_split\n",
    "import tensorflow as tf \n",
    "from tensorflow.keras.models import Sequential \n",
    "from tensorflow.keras.layers import Dense,Flatten,Conv2D,MaxPooling2D\n",
    "\n",
    "xdata=np.array(xdata)\n",
    "xtrain,xtest,ytrain,ytest=train_test_split(xdata,ydata,test_size=0.2,random_state=42)\n",
    "\n",
    "\n",
    "\n",
    "model = Sequential([\n",
    "    Conv2D(filters=10,kernel_size=(3,3),activation=\"relu\",input_shape=(28,28,1)), \n",
    "    MaxPooling2D((2,2)),\n",
    "    Conv2D(filters=20,kernel_size=(3,3),activation=\"relu\",input_shape=(28,28,1)), \n",
    "    MaxPooling2D((2,2)),\n",
    "    Flatten(),\n",
    "    Dense(100, activation='relu'),\n",
    "    Dense(50, activation='relu'), \n",
    "    Dense(10, activation='softmax') \n",
    "])\n",
    "\n",
    "model.compile(optimizer='adam', \n",
    "              loss='sparse_categorical_crossentropy',\n",
    "              metrics=['accuracy'])\n",
    "\n"
   ]
  },
  {
   "cell_type": "markdown",
   "id": "f97dc27a-3f68-494c-8716-39e71d54ebb1",
   "metadata": {},
   "source": [
    "<h3>Model Training</h3>"
   ]
  },
  {
   "cell_type": "code",
   "execution_count": 20,
   "id": "52b73771-6ef6-481c-ad91-d9fd7a0224c1",
   "metadata": {},
   "outputs": [
    {
     "name": "stdout",
     "output_type": "stream",
     "text": [
      "Epoch 1/5\n",
      "\u001b[1m250/250\u001b[0m \u001b[32m━━━━━━━━━━━━━━━━━━━━\u001b[0m\u001b[37m\u001b[0m \u001b[1m3s\u001b[0m 7ms/step - accuracy: 0.5187 - loss: 4.7395\n",
      "Epoch 2/5\n",
      "\u001b[1m250/250\u001b[0m \u001b[32m━━━━━━━━━━━━━━━━━━━━\u001b[0m\u001b[37m\u001b[0m \u001b[1m2s\u001b[0m 6ms/step - accuracy: 0.7594 - loss: 0.7069\n",
      "Epoch 3/5\n",
      "\u001b[1m250/250\u001b[0m \u001b[32m━━━━━━━━━━━━━━━━━━━━\u001b[0m\u001b[37m\u001b[0m \u001b[1m2s\u001b[0m 6ms/step - accuracy: 0.8031 - loss: 0.5430\n",
      "Epoch 4/5\n",
      "\u001b[1m250/250\u001b[0m \u001b[32m━━━━━━━━━━━━━━━━━━━━\u001b[0m\u001b[37m\u001b[0m \u001b[1m2s\u001b[0m 7ms/step - accuracy: 0.8504 - loss: 0.4129\n",
      "Epoch 5/5\n",
      "\u001b[1m250/250\u001b[0m \u001b[32m━━━━━━━━━━━━━━━━━━━━\u001b[0m\u001b[37m\u001b[0m \u001b[1m2s\u001b[0m 6ms/step - accuracy: 0.8644 - loss: 0.3682\n"
     ]
    },
    {
     "data": {
      "text/plain": [
       "<keras.src.callbacks.history.History at 0x28af7add490>"
      ]
     },
     "execution_count": 20,
     "metadata": {},
     "output_type": "execute_result"
    }
   ],
   "source": [
    "model.fit(xtrain,ytrain,epochs=5) "
   ]
  },
  {
   "cell_type": "markdown",
   "id": "73db31c3-3e09-45b9-9c9c-4eb4894d9bc0",
   "metadata": {},
   "source": [
    "<h3>Evaluation and Prediction</h3>"
   ]
  },
  {
   "cell_type": "code",
   "execution_count": 21,
   "id": "d6533f01-9348-4130-aa66-1936c6305a6b",
   "metadata": {},
   "outputs": [
    {
     "name": "stdout",
     "output_type": "stream",
     "text": [
      "\u001b[1m63/63\u001b[0m \u001b[32m━━━━━━━━━━━━━━━━━━━━\u001b[0m\u001b[37m\u001b[0m \u001b[1m0s\u001b[0m 4ms/step - accuracy: 0.8080 - loss: 0.5512\n",
      "\u001b[1m63/63\u001b[0m \u001b[32m━━━━━━━━━━━━━━━━━━━━\u001b[0m\u001b[37m\u001b[0m \u001b[1m0s\u001b[0m 4ms/step\n"
     ]
    }
   ],
   "source": [
    "model.evaluate(xtest,ytest)\n",
    "ypredict=model.predict(xtest)"
   ]
  },
  {
   "cell_type": "markdown",
   "id": "41946d70-7ded-4d05-9165-3446a76d3612",
   "metadata": {},
   "source": [
    "<h3>Comparing Prediction</h3>"
   ]
  },
  {
   "cell_type": "code",
   "execution_count": 37,
   "id": "753c86db-5eff-4e45-8160-57b1780d6c30",
   "metadata": {},
   "outputs": [
    {
     "data": {
      "text/plain": [
       "[4, 9, 0, 0, 9, 1, 5, 1, 6, 8]"
      ]
     },
     "execution_count": 37,
     "metadata": {},
     "output_type": "execute_result"
    }
   ],
   "source": [
    "finalpredict=[]\n",
    "for i in ypredict[:10]:\n",
    " finalpredict.append(int(np.argmax(i)))\n",
    "finalpredict\n"
   ]
  },
  {
   "cell_type": "code",
   "execution_count": 39,
   "id": "e5218705-2bbe-4a42-8b07-77eaa98477f5",
   "metadata": {},
   "outputs": [
    {
     "data": {
      "text/plain": [
       "[4, 9, 6, 0, 9, 1, 5, 1, 6, 8]"
      ]
     },
     "execution_count": 39,
     "metadata": {},
     "output_type": "execute_result"
    }
   ],
   "source": [
    "\n",
    "list(ytest[:10])"
   ]
  }
 ],
 "metadata": {
  "kernelspec": {
   "display_name": "Python 3 (ipykernel)",
   "language": "python",
   "name": "python3"
  },
  "language_info": {
   "codemirror_mode": {
    "name": "ipython",
    "version": 3
   },
   "file_extension": ".py",
   "mimetype": "text/x-python",
   "name": "python",
   "nbconvert_exporter": "python",
   "pygments_lexer": "ipython3",
   "version": "3.12.4"
  }
 },
 "nbformat": 4,
 "nbformat_minor": 5
}
